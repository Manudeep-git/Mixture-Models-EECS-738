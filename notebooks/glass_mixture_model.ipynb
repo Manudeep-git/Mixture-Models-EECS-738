{
  "nbformat": 4,
  "nbformat_minor": 0,
  "metadata": {
    "colab": {
      "name": "glass_mixture_model.ipynb",
      "provenance": [],
      "toc_visible": true
    },
    "kernelspec": {
      "name": "python3",
      "display_name": "Python 3"
    }
  },
  "cells": [
    {
      "cell_type": "markdown",
      "metadata": {
        "id": "Lh-X8zgkjLo5"
      },
      "source": [
        "## Expectization Maximization - Mixture Models"
      ]
    },
    {
      "cell_type": "code",
      "metadata": {
        "id": "IRUaj3Y-rd54"
      },
      "source": [
        "#Importing Libraries\r\n",
        "import pandas as pd\r\n",
        "import numpy as np\r\n",
        "import matplotlib.pyplot as plt\r\n",
        "import seaborn as sns\r\n",
        "import random as rand\r\n",
        "import sys"
      ],
      "execution_count": 18,
      "outputs": []
    },
    {
      "cell_type": "markdown",
      "metadata": {
        "id": "ZnKCfQD0rxuz"
      },
      "source": [
        "### Loading Dataset"
      ]
    },
    {
      "cell_type": "code",
      "metadata": {
        "colab": {
          "base_uri": "https://localhost:8080/",
          "height": 195
        },
        "id": "pEdJajVMrm1G",
        "outputId": "125a4a02-c695-495c-a002-8a6d440dad18"
      },
      "source": [
        "df = pd.read_csv(\"glass.csv\")\r\n",
        "df.head()"
      ],
      "execution_count": 19,
      "outputs": [
        {
          "output_type": "execute_result",
          "data": {
            "text/html": [
              "<div>\n",
              "<style scoped>\n",
              "    .dataframe tbody tr th:only-of-type {\n",
              "        vertical-align: middle;\n",
              "    }\n",
              "\n",
              "    .dataframe tbody tr th {\n",
              "        vertical-align: top;\n",
              "    }\n",
              "\n",
              "    .dataframe thead th {\n",
              "        text-align: right;\n",
              "    }\n",
              "</style>\n",
              "<table border=\"1\" class=\"dataframe\">\n",
              "  <thead>\n",
              "    <tr style=\"text-align: right;\">\n",
              "      <th></th>\n",
              "      <th>RI</th>\n",
              "      <th>Na</th>\n",
              "      <th>Mg</th>\n",
              "      <th>Al</th>\n",
              "      <th>Si</th>\n",
              "      <th>K</th>\n",
              "      <th>Ca</th>\n",
              "      <th>Ba</th>\n",
              "      <th>Fe</th>\n",
              "      <th>Type</th>\n",
              "    </tr>\n",
              "  </thead>\n",
              "  <tbody>\n",
              "    <tr>\n",
              "      <th>0</th>\n",
              "      <td>1.52101</td>\n",
              "      <td>13.64</td>\n",
              "      <td>4.49</td>\n",
              "      <td>1.10</td>\n",
              "      <td>71.78</td>\n",
              "      <td>0.06</td>\n",
              "      <td>8.75</td>\n",
              "      <td>0.0</td>\n",
              "      <td>0.0</td>\n",
              "      <td>1</td>\n",
              "    </tr>\n",
              "    <tr>\n",
              "      <th>1</th>\n",
              "      <td>1.51761</td>\n",
              "      <td>13.89</td>\n",
              "      <td>3.60</td>\n",
              "      <td>1.36</td>\n",
              "      <td>72.73</td>\n",
              "      <td>0.48</td>\n",
              "      <td>7.83</td>\n",
              "      <td>0.0</td>\n",
              "      <td>0.0</td>\n",
              "      <td>1</td>\n",
              "    </tr>\n",
              "    <tr>\n",
              "      <th>2</th>\n",
              "      <td>1.51618</td>\n",
              "      <td>13.53</td>\n",
              "      <td>3.55</td>\n",
              "      <td>1.54</td>\n",
              "      <td>72.99</td>\n",
              "      <td>0.39</td>\n",
              "      <td>7.78</td>\n",
              "      <td>0.0</td>\n",
              "      <td>0.0</td>\n",
              "      <td>1</td>\n",
              "    </tr>\n",
              "    <tr>\n",
              "      <th>3</th>\n",
              "      <td>1.51766</td>\n",
              "      <td>13.21</td>\n",
              "      <td>3.69</td>\n",
              "      <td>1.29</td>\n",
              "      <td>72.61</td>\n",
              "      <td>0.57</td>\n",
              "      <td>8.22</td>\n",
              "      <td>0.0</td>\n",
              "      <td>0.0</td>\n",
              "      <td>1</td>\n",
              "    </tr>\n",
              "    <tr>\n",
              "      <th>4</th>\n",
              "      <td>1.51742</td>\n",
              "      <td>13.27</td>\n",
              "      <td>3.62</td>\n",
              "      <td>1.24</td>\n",
              "      <td>73.08</td>\n",
              "      <td>0.55</td>\n",
              "      <td>8.07</td>\n",
              "      <td>0.0</td>\n",
              "      <td>0.0</td>\n",
              "      <td>1</td>\n",
              "    </tr>\n",
              "  </tbody>\n",
              "</table>\n",
              "</div>"
            ],
            "text/plain": [
              "        RI     Na    Mg    Al     Si     K    Ca   Ba   Fe  Type\n",
              "0  1.52101  13.64  4.49  1.10  71.78  0.06  8.75  0.0  0.0     1\n",
              "1  1.51761  13.89  3.60  1.36  72.73  0.48  7.83  0.0  0.0     1\n",
              "2  1.51618  13.53  3.55  1.54  72.99  0.39  7.78  0.0  0.0     1\n",
              "3  1.51766  13.21  3.69  1.29  72.61  0.57  8.22  0.0  0.0     1\n",
              "4  1.51742  13.27  3.62  1.24  73.08  0.55  8.07  0.0  0.0     1"
            ]
          },
          "metadata": {
            "tags": []
          },
          "execution_count": 19
        }
      ]
    },
    {
      "cell_type": "markdown",
      "metadata": {
        "id": "lpnGiccgsFzF"
      },
      "source": [
        "Lets look at initial clusters of data before we apply Gaussian mixture models or Expectixation maximixation"
      ]
    },
    {
      "cell_type": "code",
      "metadata": {
        "colab": {
          "base_uri": "https://localhost:8080/",
          "height": 407
        },
        "id": "3C2NGzI6sO43",
        "outputId": "de116d20-a2ff-47b3-f8d1-ec8c32c94f82"
      },
      "source": [
        "plt.subplots(figsize=(12,6))\r\n",
        "plt.title(\"Glass Dataset before GMM\");\r\n",
        "plt.scatter(df['Al'],df['Na'],34, c=df['Type'])"
      ],
      "execution_count": 20,
      "outputs": [
        {
          "output_type": "execute_result",
          "data": {
            "text/plain": [
              "<matplotlib.collections.PathCollection at 0x7f03a7481290>"
            ]
          },
          "metadata": {
            "tags": []
          },
          "execution_count": 20
        },
        {
          "output_type": "display_data",
          "data": {
            "image/png": "[encoded data removed]",
            "text/plain": [
              "<Figure size 864x432 with 1 Axes>"
            ]
          },
          "metadata": {
            "tags": [],
            "needs_background": "light"
          }
        }
      ]
    },
    {
      "cell_type": "markdown",
      "metadata": {
        "id": "dPYDdIqwsk6X"
      },
      "source": [
        "Let's focus on 3 clusters. For equal probability, I will use 3 randomly selected data points from this data."
      ]
    },
    {
      "cell_type": "code",
      "metadata": {
        "id": "TsVRa5h1tJ2s"
      },
      "source": [
        "n1 = rand.randrange(len(df))\r\n",
        "n2 = rand.randrange(len(df))"
      ],
      "execution_count": 21,
      "outputs": []
    },
    {
      "cell_type": "markdown",
      "metadata": {
        "id": "kAsMemZlyBoS"
      },
      "source": [
        "Let's calculate the probability using mu,sigma and other values"
      ]
    },
    {
      "cell_type": "code",
      "metadata": {
        "id": "v0gh2DxqyKlo"
      },
      "source": [
        "from scipy.stats import norm\r\n",
        "def probability(data, mu, sigma, lam):\r\n",
        "  p= lam\r\n",
        "  for i in range(len(data)):\r\n",
        "    p*=norm.pdf(data[i],mu[i],sigma[i][i])\r\n",
        "\r\n",
        "  return p;"
      ],
      "execution_count": 22,
      "outputs": []
    },
    {
      "cell_type": "markdown",
      "metadata": {
        "id": "3dtiPog0zXSx"
      },
      "source": [
        "Now, let's focus on the Expectation(E part), In this step we assign the point to it's more expected cluster"
      ]
    },
    {
      "cell_type": "code",
      "metadata": {
        "id": "v2aCZ67QzkcJ"
      },
      "source": [
        "def expectation(df, param):\r\n",
        "    for i in range(df.shape[0]):\r\n",
        "        x = df['Al'][i]\r\n",
        "        y = df['Na'][i]\r\n",
        "       \r\n",
        "        \r\n",
        "        \r\n",
        "        #assigning the probablilities of each cluster\r\n",
        "        prob_cluster1=probability([x,y],list(param['mu1']), list(param['sig1']), param['lambda'][0])\r\n",
        "        prob_cluster2=probability([x,y],list(param['mu2']), list(param['sig2']), param['lambda'][1])\r\n",
        "\r\n",
        "        \r\n",
        "        # Labelling each data according to the probabilities of cluster\r\n",
        "        if(prob_cluster1>=prob_cluster2):\r\n",
        "            df['label'][i] =1\r\n",
        "        else:\r\n",
        "            df['label'][i] = 2\r\n",
        "            \r\n",
        "    return df"
      ],
      "execution_count": 23,
      "outputs": []
    },
    {
      "cell_type": "markdown",
      "metadata": {
        "id": "uBMiWbaI0Civ"
      },
      "source": [
        "Maximization part"
      ]
    },
    {
      "cell_type": "code",
      "metadata": {
        "id": "1xAQCJPJ0GJt"
      },
      "source": [
        "\r\n",
        "def maximization(df, param):\r\n",
        "    dp_cluster1=df[df['label']==1]\r\n",
        "    dp_cluster2=df[df['label']==2]\r\n",
        " \r\n",
        "    percent_cluster1=len(dp_cluster1)/float(len(df))\r\n",
        "    percent_cluster2=1-percent_cluster1\r\n",
        "    param['lambda']=[percent_cluster1,percent_cluster2]\r\n",
        "    \r\n",
        "    param['mu1']=[dp_cluster1['Al'].mean(),dp_cluster1['Na'].mean()]\r\n",
        "    param['mu2']=[dp_cluster2['Al'].mean(),dp_cluster2['Na'].mean()]\r\n",
        "   \r\n",
        "    param['sig1']= [[dp_cluster1['Al'].std(),0 ], [0,dp_cluster1['Na'].std()]]\r\n",
        "    param['sig2']= [[dp_cluster1['Al'].std(),0], [0,dp_cluster2['Na'].std()]]\r\n",
        "    \r\n",
        "    return param"
      ],
      "execution_count": 24,
      "outputs": []
    },
    {
      "cell_type": "markdown",
      "metadata": {
        "id": "JQiJtk8c07lp"
      },
      "source": [
        "Calculating the distance to get the convergence point"
      ]
    },
    {
      "cell_type": "code",
      "metadata": {
        "id": "akPjBkZt0_62"
      },
      "source": [
        "def distance(old, new):\r\n",
        "    dist = 0\r\n",
        "    for param in ['mu1','mu2']:\r\n",
        "        for i in range(len(old)):\r\n",
        "            dist+=(old[param][i]-new[param][i])**2\r\n",
        "    return dist**0.5"
      ],
      "execution_count": 25,
      "outputs": []
    },
    {
      "cell_type": "markdown",
      "metadata": {
        "id": "HIrSdJPY1GMS"
      },
      "source": [
        "Initial input parameters - mean, variance and probability of drawing a point from thr mixture respectively"
      ]
    },
    {
      "cell_type": "code",
      "metadata": {
        "id": "Z8OuEYFU1Kwb"
      },
      "source": [
        "initial_values = { 'mu1': [df['Al'].loc[n1], df['Na'].loc[n1]], 'sig1': [ [1, 0], [0, 1]],\r\n",
        "    'mu2': [df['Al'].loc[n2],df['Na'].loc[n2]], 'sig2': [ [1, 0], [0, 1]],'lambda': [0.4, 0.6]}"
      ],
      "execution_count": 26,
      "outputs": []
    },
    {
      "cell_type": "markdown",
      "metadata": {
        "id": "DqIdmhn01WvE"
      },
      "source": [
        "Assigning data points randomly to one of the clusters"
      ]
    },
    {
      "cell_type": "code",
      "metadata": {
        "id": "lYVk8FPO1hG3"
      },
      "source": [
        "df_new = df.copy()\r\n",
        "df_new['label']=map(lambda x:x+1, np.random.choice (3,len(df)))"
      ],
      "execution_count": 27,
      "outputs": []
    },
    {
      "cell_type": "code",
      "metadata": {
        "colab": {
          "base_uri": "https://localhost:8080/",
          "height": 106
        },
        "id": "AhaHmcm21vpC",
        "outputId": "9c0e03f6-3c53-4c58-fa64-82689fb2b46d"
      },
      "source": [
        "params = pd.DataFrame.from_dict(initial_values, orient = 'index')\r\n",
        "params = params.transpose()\r\n",
        "params"
      ],
      "execution_count": 28,
      "outputs": [
        {
          "output_type": "execute_result",
          "data": {
            "text/html": [
              "<div>\n",
              "<style scoped>\n",
              "    .dataframe tbody tr th:only-of-type {\n",
              "        vertical-align: middle;\n",
              "    }\n",
              "\n",
              "    .dataframe tbody tr th {\n",
              "        vertical-align: top;\n",
              "    }\n",
              "\n",
              "    .dataframe thead th {\n",
              "        text-align: right;\n",
              "    }\n",
              "</style>\n",
              "<table border=\"1\" class=\"dataframe\">\n",
              "  <thead>\n",
              "    <tr style=\"text-align: right;\">\n",
              "      <th></th>\n",
              "      <th>mu1</th>\n",
              "      <th>sig1</th>\n",
              "      <th>mu2</th>\n",
              "      <th>sig2</th>\n",
              "      <th>lambda</th>\n",
              "    </tr>\n",
              "  </thead>\n",
              "  <tbody>\n",
              "    <tr>\n",
              "      <th>0</th>\n",
              "      <td>1.14</td>\n",
              "      <td>[1, 0]</td>\n",
              "      <td>1.4</td>\n",
              "      <td>[1, 0]</td>\n",
              "      <td>0.4</td>\n",
              "    </tr>\n",
              "    <tr>\n",
              "      <th>1</th>\n",
              "      <td>12.84</td>\n",
              "      <td>[0, 1]</td>\n",
              "      <td>13.38</td>\n",
              "      <td>[0, 1]</td>\n",
              "      <td>0.6</td>\n",
              "    </tr>\n",
              "  </tbody>\n",
              "</table>\n",
              "</div>"
            ],
            "text/plain": [
              "     mu1    sig1    mu2    sig2 lambda\n",
              "0   1.14  [1, 0]    1.4  [1, 0]    0.4\n",
              "1  12.84  [0, 1]  13.38  [0, 1]    0.6"
            ]
          },
          "metadata": {
            "tags": []
          },
          "execution_count": 28
        }
      ]
    },
    {
      "cell_type": "code",
      "metadata": {
        "colab": {
          "base_uri": "https://localhost:8080/"
        },
        "id": "IXx3J2MI2JuE",
        "outputId": "f320fb55-62b0-4431-f6ea-144918041dc7"
      },
      "source": [
        "shift = sys.maxsize\r\n",
        "epsilon=0.01\r\n",
        "itrations=0\r\n",
        "while shift > epsilon:\r\n",
        "    itrations += 1\r\n",
        "    \r\n",
        "    #Expectation-step\r\n",
        "    new_class = expectation(df_new.copy(), params)\r\n",
        "    \r\n",
        "    #Maximization-step\r\n",
        "    new_params = maximization(new_class, params.copy())\r\n",
        "    \r\n",
        "    #Updating the shift distance\r\n",
        "    shift = distance(params, new_params)\r\n",
        "    \r\n",
        "    #updating the new labels and parameters for the next iteration\r\n",
        "    df_copy = new_class\r\n",
        "    params = new_params"
      ],
      "execution_count": 29,
      "outputs": [
        {
          "output_type": "stream",
          "text": [
            "/usr/local/lib/python3.7/dist-packages/ipykernel_launcher.py:17: SettingWithCopyWarning: \n",
            "A value is trying to be set on a copy of a slice from a DataFrame\n",
            "\n",
            "See the caveats in the documentation: https://pandas.pydata.org/pandas-docs/stable/user_guide/indexing.html#returning-a-view-versus-a-copy\n",
            "/usr/local/lib/python3.7/dist-packages/ipykernel_launcher.py:15: SettingWithCopyWarning: \n",
            "A value is trying to be set on a copy of a slice from a DataFrame\n",
            "\n",
            "See the caveats in the documentation: https://pandas.pydata.org/pandas-docs/stable/user_guide/indexing.html#returning-a-view-versus-a-copy\n",
            "  from ipykernel import kernelapp as app\n"
          ],
          "name": "stderr"
        }
      ]
    },
    {
      "cell_type": "markdown",
      "metadata": {
        "id": "fDf3HTt83qTm"
      },
      "source": [
        "Lets look at the new params after the algorithm implmentation"
      ]
    },
    {
      "cell_type": "code",
      "metadata": {
        "colab": {
          "base_uri": "https://localhost:8080/",
          "height": 106
        },
        "id": "wO3rOwdi3oDO",
        "outputId": "5f235e85-37cd-4c43-b073-fd74a48756c5"
      },
      "source": [
        "params"
      ],
      "execution_count": 30,
      "outputs": [
        {
          "output_type": "execute_result",
          "data": {
            "text/html": [
              "<div>\n",
              "<style scoped>\n",
              "    .dataframe tbody tr th:only-of-type {\n",
              "        vertical-align: middle;\n",
              "    }\n",
              "\n",
              "    .dataframe tbody tr th {\n",
              "        vertical-align: top;\n",
              "    }\n",
              "\n",
              "    .dataframe thead th {\n",
              "        text-align: right;\n",
              "    }\n",
              "</style>\n",
              "<table border=\"1\" class=\"dataframe\">\n",
              "  <thead>\n",
              "    <tr style=\"text-align: right;\">\n",
              "      <th></th>\n",
              "      <th>mu1</th>\n",
              "      <th>sig1</th>\n",
              "      <th>mu2</th>\n",
              "      <th>sig2</th>\n",
              "      <th>lambda</th>\n",
              "    </tr>\n",
              "  </thead>\n",
              "  <tbody>\n",
              "    <tr>\n",
              "      <th>0</th>\n",
              "      <td>1.412</td>\n",
              "      <td>[0.6254358480291963, 0]</td>\n",
              "      <td>1.445694</td>\n",
              "      <td>[0.6254358480291963, 0]</td>\n",
              "      <td>0.023364</td>\n",
              "    </tr>\n",
              "    <tr>\n",
              "      <th>1</th>\n",
              "      <td>11.092</td>\n",
              "      <td>[0, 0.26799253720952726]</td>\n",
              "      <td>13.463254</td>\n",
              "      <td>[0, 0.7412716061185275]</td>\n",
              "      <td>0.976636</td>\n",
              "    </tr>\n",
              "  </tbody>\n",
              "</table>\n",
              "</div>"
            ],
            "text/plain": [
              "      mu1                      sig1  ...                     sig2    lambda\n",
              "0   1.412   [0.6254358480291963, 0]  ...  [0.6254358480291963, 0]  0.023364\n",
              "1  11.092  [0, 0.26799253720952726]  ...  [0, 0.7412716061185275]  0.976636\n",
              "\n",
              "[2 rows x 5 columns]"
            ]
          },
          "metadata": {
            "tags": []
          },
          "execution_count": 30
        }
      ]
    },
    {
      "cell_type": "markdown",
      "metadata": {
        "id": "OzLw9LHO4At5"
      },
      "source": [
        "Lets look at the new dataframe data"
      ]
    },
    {
      "cell_type": "code",
      "metadata": {
        "colab": {
          "base_uri": "https://localhost:8080/",
          "height": 343
        },
        "id": "aFZhr7Ts4GJG",
        "outputId": "3448fb53-bfca-41a8-ae67-721fdf98d396"
      },
      "source": [
        "df_new.sample(10)"
      ],
      "execution_count": 31,
      "outputs": [
        {
          "output_type": "execute_result",
          "data": {
            "text/html": [
              "<div>\n",
              "<style scoped>\n",
              "    .dataframe tbody tr th:only-of-type {\n",
              "        vertical-align: middle;\n",
              "    }\n",
              "\n",
              "    .dataframe tbody tr th {\n",
              "        vertical-align: top;\n",
              "    }\n",
              "\n",
              "    .dataframe thead th {\n",
              "        text-align: right;\n",
              "    }\n",
              "</style>\n",
              "<table border=\"1\" class=\"dataframe\">\n",
              "  <thead>\n",
              "    <tr style=\"text-align: right;\">\n",
              "      <th></th>\n",
              "      <th>RI</th>\n",
              "      <th>Na</th>\n",
              "      <th>Mg</th>\n",
              "      <th>Al</th>\n",
              "      <th>Si</th>\n",
              "      <th>K</th>\n",
              "      <th>Ca</th>\n",
              "      <th>Ba</th>\n",
              "      <th>Fe</th>\n",
              "      <th>Type</th>\n",
              "      <th>label</th>\n",
              "    </tr>\n",
              "  </thead>\n",
              "  <tbody>\n",
              "    <tr>\n",
              "      <th>123</th>\n",
              "      <td>1.51707</td>\n",
              "      <td>13.48</td>\n",
              "      <td>3.48</td>\n",
              "      <td>1.71</td>\n",
              "      <td>72.52</td>\n",
              "      <td>0.62</td>\n",
              "      <td>7.99</td>\n",
              "      <td>0.00</td>\n",
              "      <td>0.00</td>\n",
              "      <td>2</td>\n",
              "      <td>&lt;map object at 0x7f03a73e74d0&gt;</td>\n",
              "    </tr>\n",
              "    <tr>\n",
              "      <th>152</th>\n",
              "      <td>1.51779</td>\n",
              "      <td>13.64</td>\n",
              "      <td>3.65</td>\n",
              "      <td>0.65</td>\n",
              "      <td>73.00</td>\n",
              "      <td>0.06</td>\n",
              "      <td>8.93</td>\n",
              "      <td>0.00</td>\n",
              "      <td>0.00</td>\n",
              "      <td>3</td>\n",
              "      <td>&lt;map object at 0x7f03a73e74d0&gt;</td>\n",
              "    </tr>\n",
              "    <tr>\n",
              "      <th>191</th>\n",
              "      <td>1.51602</td>\n",
              "      <td>14.85</td>\n",
              "      <td>0.00</td>\n",
              "      <td>2.38</td>\n",
              "      <td>73.28</td>\n",
              "      <td>0.00</td>\n",
              "      <td>8.76</td>\n",
              "      <td>0.64</td>\n",
              "      <td>0.09</td>\n",
              "      <td>7</td>\n",
              "      <td>&lt;map object at 0x7f03a73e74d0&gt;</td>\n",
              "    </tr>\n",
              "    <tr>\n",
              "      <th>213</th>\n",
              "      <td>1.51711</td>\n",
              "      <td>14.23</td>\n",
              "      <td>0.00</td>\n",
              "      <td>2.08</td>\n",
              "      <td>73.36</td>\n",
              "      <td>0.00</td>\n",
              "      <td>8.62</td>\n",
              "      <td>1.67</td>\n",
              "      <td>0.00</td>\n",
              "      <td>7</td>\n",
              "      <td>&lt;map object at 0x7f03a73e74d0&gt;</td>\n",
              "    </tr>\n",
              "    <tr>\n",
              "      <th>75</th>\n",
              "      <td>1.51590</td>\n",
              "      <td>13.02</td>\n",
              "      <td>3.58</td>\n",
              "      <td>1.51</td>\n",
              "      <td>73.12</td>\n",
              "      <td>0.69</td>\n",
              "      <td>7.96</td>\n",
              "      <td>0.00</td>\n",
              "      <td>0.00</td>\n",
              "      <td>2</td>\n",
              "      <td>&lt;map object at 0x7f03a73e74d0&gt;</td>\n",
              "    </tr>\n",
              "    <tr>\n",
              "      <th>23</th>\n",
              "      <td>1.51751</td>\n",
              "      <td>12.81</td>\n",
              "      <td>3.57</td>\n",
              "      <td>1.35</td>\n",
              "      <td>73.02</td>\n",
              "      <td>0.62</td>\n",
              "      <td>8.59</td>\n",
              "      <td>0.00</td>\n",
              "      <td>0.00</td>\n",
              "      <td>1</td>\n",
              "      <td>&lt;map object at 0x7f03a73e74d0&gt;</td>\n",
              "    </tr>\n",
              "    <tr>\n",
              "      <th>182</th>\n",
              "      <td>1.51916</td>\n",
              "      <td>14.15</td>\n",
              "      <td>0.00</td>\n",
              "      <td>2.09</td>\n",
              "      <td>72.74</td>\n",
              "      <td>0.00</td>\n",
              "      <td>10.88</td>\n",
              "      <td>0.00</td>\n",
              "      <td>0.00</td>\n",
              "      <td>6</td>\n",
              "      <td>&lt;map object at 0x7f03a73e74d0&gt;</td>\n",
              "    </tr>\n",
              "    <tr>\n",
              "      <th>34</th>\n",
              "      <td>1.51783</td>\n",
              "      <td>12.69</td>\n",
              "      <td>3.54</td>\n",
              "      <td>1.34</td>\n",
              "      <td>72.95</td>\n",
              "      <td>0.57</td>\n",
              "      <td>8.75</td>\n",
              "      <td>0.00</td>\n",
              "      <td>0.00</td>\n",
              "      <td>1</td>\n",
              "      <td>&lt;map object at 0x7f03a73e74d0&gt;</td>\n",
              "    </tr>\n",
              "    <tr>\n",
              "      <th>78</th>\n",
              "      <td>1.51613</td>\n",
              "      <td>13.92</td>\n",
              "      <td>3.52</td>\n",
              "      <td>1.25</td>\n",
              "      <td>72.88</td>\n",
              "      <td>0.37</td>\n",
              "      <td>7.94</td>\n",
              "      <td>0.00</td>\n",
              "      <td>0.14</td>\n",
              "      <td>2</td>\n",
              "      <td>&lt;map object at 0x7f03a73e74d0&gt;</td>\n",
              "    </tr>\n",
              "    <tr>\n",
              "      <th>64</th>\n",
              "      <td>1.52172</td>\n",
              "      <td>13.48</td>\n",
              "      <td>3.74</td>\n",
              "      <td>0.90</td>\n",
              "      <td>72.01</td>\n",
              "      <td>0.18</td>\n",
              "      <td>9.61</td>\n",
              "      <td>0.00</td>\n",
              "      <td>0.07</td>\n",
              "      <td>1</td>\n",
              "      <td>&lt;map object at 0x7f03a73e74d0&gt;</td>\n",
              "    </tr>\n",
              "  </tbody>\n",
              "</table>\n",
              "</div>"
            ],
            "text/plain": [
              "          RI     Na    Mg  ...    Fe  Type                           label\n",
              "123  1.51707  13.48  3.48  ...  0.00     2  <map object at 0x7f03a73e74d0>\n",
              "152  1.51779  13.64  3.65  ...  0.00     3  <map object at 0x7f03a73e74d0>\n",
              "191  1.51602  14.85  0.00  ...  0.09     7  <map object at 0x7f03a73e74d0>\n",
              "213  1.51711  14.23  0.00  ...  0.00     7  <map object at 0x7f03a73e74d0>\n",
              "75   1.51590  13.02  3.58  ...  0.00     2  <map object at 0x7f03a73e74d0>\n",
              "23   1.51751  12.81  3.57  ...  0.00     1  <map object at 0x7f03a73e74d0>\n",
              "182  1.51916  14.15  0.00  ...  0.00     6  <map object at 0x7f03a73e74d0>\n",
              "34   1.51783  12.69  3.54  ...  0.00     1  <map object at 0x7f03a73e74d0>\n",
              "78   1.51613  13.92  3.52  ...  0.14     2  <map object at 0x7f03a73e74d0>\n",
              "64   1.52172  13.48  3.74  ...  0.07     1  <map object at 0x7f03a73e74d0>\n",
              "\n",
              "[10 rows x 11 columns]"
            ]
          },
          "metadata": {
            "tags": []
          },
          "execution_count": 31
        }
      ]
    },
    {
      "cell_type": "markdown",
      "metadata": {
        "id": "PAhsrHRs5OkJ"
      },
      "source": [
        "Now, let's look at the final data and clusters"
      ]
    },
    {
      "cell_type": "code",
      "metadata": {
        "colab": {
          "base_uri": "https://localhost:8080/",
          "height": 298
        },
        "id": "tUPrs_gJ5VM0",
        "outputId": "9770a5d9-de1e-4294-e4cc-311b18a1f5a3"
      },
      "source": [
        "plt.title(\"Clusters after applying GMM\")\r\n",
        "plt.scatter(df_copy['Na'], df_copy['Al'], 34, c=df_copy['label'])"
      ],
      "execution_count": 32,
      "outputs": [
        {
          "output_type": "execute_result",
          "data": {
            "text/plain": [
              "<matplotlib.collections.PathCollection at 0x7f03a74210d0>"
            ]
          },
          "metadata": {
            "tags": []
          },
          "execution_count": 32
        },
        {
          "output_type": "display_data",
          "data": {
            "image/png": "[encoded data removed]",
            "text/plain": [
              "<Figure size 432x288 with 1 Axes>"
            ]
          },
          "metadata": {
            "tags": [],
            "needs_background": "light"
          }
        }
      ]
    },
    {
      "cell_type": "code",
      "metadata": {
        "id": "I8vZVxYqldIR"
      },
      "source": [
        ""
      ],
      "execution_count": null,
      "outputs": []
    },
    {
      "cell_type": "markdown",
      "metadata": {
        "id": "eHQ_kwg_5gzc"
      },
      "source": [
        "## Conclusion"
      ]
    },
    {
      "cell_type": "markdown",
      "metadata": {
        "id": "F_si4BnylSH5"
      },
      "source": [
        "This approach didn't really give a good classfication with 2 clusters for Glass Classification dataset. While the other K-Means approach  gave a good classification"
      ]
    }
  ]
}